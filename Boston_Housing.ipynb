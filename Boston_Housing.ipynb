{
  "nbformat": 4,
  "nbformat_minor": 0,
  "metadata": {
    "colab": {
      "name": "Boston Housing.ipynb",
      "provenance": [],
      "collapsed_sections": []
    },
    "kernelspec": {
      "name": "python3",
      "display_name": "Python 3"
    },
    "language_info": {
      "name": "python"
    }
  },
  "cells": [
    {
      "cell_type": "code",
      "execution_count": 1,
      "metadata": {
        "id": "sVqjO-juwv2E"
      },
      "outputs": [],
      "source": [
        "import numpy as np\n",
        "import pandas as pd\n",
        "import matplotlib as mpl \n",
        "import matplotlib.pyplot as plt \n",
        "\n",
        "seed = 25"
      ]
    },
    {
      "cell_type": "markdown",
      "source": [
        "# Descrição do conjunto de dados"
      ],
      "metadata": {
        "id": "B2I_zd5AIbXj"
      }
    },
    {
      "cell_type": "markdown",
      "source": [
        "Pegarei os dados diretamente do site. Estaremos atrás de prever o valor médio de casas em Boston, dados os outros dados. "
      ],
      "metadata": {
        "id": "wll5nD2-wJ53"
      }
    },
    {
      "cell_type": "code",
      "source": [
        "variaveis = ['CRIM','ZN', 'INDUS','CHAS','NOX','RM','AGE','DIS','RAD','TAX','PTRATIO','B','LSTAT','MEDV']\n",
        "\n",
        "boston_inicial = pd.read_csv(\"http://lib.stat.cmu.edu/datasets/boston\", sep=\"\\s+\", skiprows=22,header = None)\n",
        "boston_np = np.hstack([boston_inicial.values[::2, :], boston_inicial.values[1::2, :3]])\n",
        "\n",
        "boston = pd.DataFrame(boston_np, columns = variaveis)\n",
        "\n",
        "boston.head()"
      ],
      "metadata": {
        "colab": {
          "base_uri": "https://localhost:8080/",
          "height": 206
        },
        "id": "T9C1_b4tOSUh",
        "outputId": "2a93c0df-8f25-46b0-e75b-34fa8a2c00c3"
      },
      "execution_count": 2,
      "outputs": [
        {
          "output_type": "execute_result",
          "data": {
            "text/html": [
              "\n",
              "  <div id=\"df-4d5d80d8-eb5b-4bf9-9bf2-6f97c2a3903f\">\n",
              "    <div class=\"colab-df-container\">\n",
              "      <div>\n",
              "<style scoped>\n",
              "    .dataframe tbody tr th:only-of-type {\n",
              "        vertical-align: middle;\n",
              "    }\n",
              "\n",
              "    .dataframe tbody tr th {\n",
              "        vertical-align: top;\n",
              "    }\n",
              "\n",
              "    .dataframe thead th {\n",
              "        text-align: right;\n",
              "    }\n",
              "</style>\n",
              "<table border=\"1\" class=\"dataframe\">\n",
              "  <thead>\n",
              "    <tr style=\"text-align: right;\">\n",
              "      <th></th>\n",
              "      <th>CRIM</th>\n",
              "      <th>ZN</th>\n",
              "      <th>INDUS</th>\n",
              "      <th>CHAS</th>\n",
              "      <th>NOX</th>\n",
              "      <th>RM</th>\n",
              "      <th>AGE</th>\n",
              "      <th>DIS</th>\n",
              "      <th>RAD</th>\n",
              "      <th>TAX</th>\n",
              "      <th>PTRATIO</th>\n",
              "      <th>B</th>\n",
              "      <th>LSTAT</th>\n",
              "      <th>MEDV</th>\n",
              "    </tr>\n",
              "  </thead>\n",
              "  <tbody>\n",
              "    <tr>\n",
              "      <th>0</th>\n",
              "      <td>0.00632</td>\n",
              "      <td>18.0</td>\n",
              "      <td>2.31</td>\n",
              "      <td>0.0</td>\n",
              "      <td>0.538</td>\n",
              "      <td>6.575</td>\n",
              "      <td>65.2</td>\n",
              "      <td>4.0900</td>\n",
              "      <td>1.0</td>\n",
              "      <td>296.0</td>\n",
              "      <td>15.3</td>\n",
              "      <td>396.90</td>\n",
              "      <td>4.98</td>\n",
              "      <td>24.0</td>\n",
              "    </tr>\n",
              "    <tr>\n",
              "      <th>1</th>\n",
              "      <td>0.02731</td>\n",
              "      <td>0.0</td>\n",
              "      <td>7.07</td>\n",
              "      <td>0.0</td>\n",
              "      <td>0.469</td>\n",
              "      <td>6.421</td>\n",
              "      <td>78.9</td>\n",
              "      <td>4.9671</td>\n",
              "      <td>2.0</td>\n",
              "      <td>242.0</td>\n",
              "      <td>17.8</td>\n",
              "      <td>396.90</td>\n",
              "      <td>9.14</td>\n",
              "      <td>21.6</td>\n",
              "    </tr>\n",
              "    <tr>\n",
              "      <th>2</th>\n",
              "      <td>0.02729</td>\n",
              "      <td>0.0</td>\n",
              "      <td>7.07</td>\n",
              "      <td>0.0</td>\n",
              "      <td>0.469</td>\n",
              "      <td>7.185</td>\n",
              "      <td>61.1</td>\n",
              "      <td>4.9671</td>\n",
              "      <td>2.0</td>\n",
              "      <td>242.0</td>\n",
              "      <td>17.8</td>\n",
              "      <td>392.83</td>\n",
              "      <td>4.03</td>\n",
              "      <td>34.7</td>\n",
              "    </tr>\n",
              "    <tr>\n",
              "      <th>3</th>\n",
              "      <td>0.03237</td>\n",
              "      <td>0.0</td>\n",
              "      <td>2.18</td>\n",
              "      <td>0.0</td>\n",
              "      <td>0.458</td>\n",
              "      <td>6.998</td>\n",
              "      <td>45.8</td>\n",
              "      <td>6.0622</td>\n",
              "      <td>3.0</td>\n",
              "      <td>222.0</td>\n",
              "      <td>18.7</td>\n",
              "      <td>394.63</td>\n",
              "      <td>2.94</td>\n",
              "      <td>33.4</td>\n",
              "    </tr>\n",
              "    <tr>\n",
              "      <th>4</th>\n",
              "      <td>0.06905</td>\n",
              "      <td>0.0</td>\n",
              "      <td>2.18</td>\n",
              "      <td>0.0</td>\n",
              "      <td>0.458</td>\n",
              "      <td>7.147</td>\n",
              "      <td>54.2</td>\n",
              "      <td>6.0622</td>\n",
              "      <td>3.0</td>\n",
              "      <td>222.0</td>\n",
              "      <td>18.7</td>\n",
              "      <td>396.90</td>\n",
              "      <td>5.33</td>\n",
              "      <td>36.2</td>\n",
              "    </tr>\n",
              "  </tbody>\n",
              "</table>\n",
              "</div>\n",
              "      <button class=\"colab-df-convert\" onclick=\"convertToInteractive('df-4d5d80d8-eb5b-4bf9-9bf2-6f97c2a3903f')\"\n",
              "              title=\"Convert this dataframe to an interactive table.\"\n",
              "              style=\"display:none;\">\n",
              "        \n",
              "  <svg xmlns=\"http://www.w3.org/2000/svg\" height=\"24px\"viewBox=\"0 0 24 24\"\n",
              "       width=\"24px\">\n",
              "    <path d=\"M0 0h24v24H0V0z\" fill=\"none\"/>\n",
              "    <path d=\"M18.56 5.44l.94 2.06.94-2.06 2.06-.94-2.06-.94-.94-2.06-.94 2.06-2.06.94zm-11 1L8.5 8.5l.94-2.06 2.06-.94-2.06-.94L8.5 2.5l-.94 2.06-2.06.94zm10 10l.94 2.06.94-2.06 2.06-.94-2.06-.94-.94-2.06-.94 2.06-2.06.94z\"/><path d=\"M17.41 7.96l-1.37-1.37c-.4-.4-.92-.59-1.43-.59-.52 0-1.04.2-1.43.59L10.3 9.45l-7.72 7.72c-.78.78-.78 2.05 0 2.83L4 21.41c.39.39.9.59 1.41.59.51 0 1.02-.2 1.41-.59l7.78-7.78 2.81-2.81c.8-.78.8-2.07 0-2.86zM5.41 20L4 18.59l7.72-7.72 1.47 1.35L5.41 20z\"/>\n",
              "  </svg>\n",
              "      </button>\n",
              "      \n",
              "  <style>\n",
              "    .colab-df-container {\n",
              "      display:flex;\n",
              "      flex-wrap:wrap;\n",
              "      gap: 12px;\n",
              "    }\n",
              "\n",
              "    .colab-df-convert {\n",
              "      background-color: #E8F0FE;\n",
              "      border: none;\n",
              "      border-radius: 50%;\n",
              "      cursor: pointer;\n",
              "      display: none;\n",
              "      fill: #1967D2;\n",
              "      height: 32px;\n",
              "      padding: 0 0 0 0;\n",
              "      width: 32px;\n",
              "    }\n",
              "\n",
              "    .colab-df-convert:hover {\n",
              "      background-color: #E2EBFA;\n",
              "      box-shadow: 0px 1px 2px rgba(60, 64, 67, 0.3), 0px 1px 3px 1px rgba(60, 64, 67, 0.15);\n",
              "      fill: #174EA6;\n",
              "    }\n",
              "\n",
              "    [theme=dark] .colab-df-convert {\n",
              "      background-color: #3B4455;\n",
              "      fill: #D2E3FC;\n",
              "    }\n",
              "\n",
              "    [theme=dark] .colab-df-convert:hover {\n",
              "      background-color: #434B5C;\n",
              "      box-shadow: 0px 1px 3px 1px rgba(0, 0, 0, 0.15);\n",
              "      filter: drop-shadow(0px 1px 2px rgba(0, 0, 0, 0.3));\n",
              "      fill: #FFFFFF;\n",
              "    }\n",
              "  </style>\n",
              "\n",
              "      <script>\n",
              "        const buttonEl =\n",
              "          document.querySelector('#df-4d5d80d8-eb5b-4bf9-9bf2-6f97c2a3903f button.colab-df-convert');\n",
              "        buttonEl.style.display =\n",
              "          google.colab.kernel.accessAllowed ? 'block' : 'none';\n",
              "\n",
              "        async function convertToInteractive(key) {\n",
              "          const element = document.querySelector('#df-4d5d80d8-eb5b-4bf9-9bf2-6f97c2a3903f');\n",
              "          const dataTable =\n",
              "            await google.colab.kernel.invokeFunction('convertToInteractive',\n",
              "                                                     [key], {});\n",
              "          if (!dataTable) return;\n",
              "\n",
              "          const docLinkHtml = 'Like what you see? Visit the ' +\n",
              "            '<a target=\"_blank\" href=https://colab.research.google.com/notebooks/data_table.ipynb>data table notebook</a>'\n",
              "            + ' to learn more about interactive tables.';\n",
              "          element.innerHTML = '';\n",
              "          dataTable['output_type'] = 'display_data';\n",
              "          await google.colab.output.renderOutput(dataTable, element);\n",
              "          const docLink = document.createElement('div');\n",
              "          docLink.innerHTML = docLinkHtml;\n",
              "          element.appendChild(docLink);\n",
              "        }\n",
              "      </script>\n",
              "    </div>\n",
              "  </div>\n",
              "  "
            ],
            "text/plain": [
              "      CRIM    ZN  INDUS  CHAS    NOX  ...    TAX  PTRATIO       B  LSTAT  MEDV\n",
              "0  0.00632  18.0   2.31   0.0  0.538  ...  296.0     15.3  396.90   4.98  24.0\n",
              "1  0.02731   0.0   7.07   0.0  0.469  ...  242.0     17.8  396.90   9.14  21.6\n",
              "2  0.02729   0.0   7.07   0.0  0.469  ...  242.0     17.8  392.83   4.03  34.7\n",
              "3  0.03237   0.0   2.18   0.0  0.458  ...  222.0     18.7  394.63   2.94  33.4\n",
              "4  0.06905   0.0   2.18   0.0  0.458  ...  222.0     18.7  396.90   5.33  36.2\n",
              "\n",
              "[5 rows x 14 columns]"
            ]
          },
          "metadata": {},
          "execution_count": 2
        }
      ]
    },
    {
      "cell_type": "markdown",
      "source": [
        "# Separação do conjunto em treino e teste"
      ],
      "metadata": {
        "id": "q3nGpcJWIsoj"
      }
    },
    {
      "cell_type": "markdown",
      "source": [
        "Farei uma divisão estratificada do conjunto de treino do conjunto de testes, primeiro estratificando em cinco partes os valores em MEDV."
      ],
      "metadata": {
        "id": "mJVehc4bvrlI"
      }
    },
    {
      "cell_type": "code",
      "source": [
        "boston[\"CAT\"] = pd.cut(boston[\"MEDV\"], bins=[4., 14, 23, 32, 41., np.inf], labels=[1, 2, 3, 4, 5])"
      ],
      "metadata": {
        "id": "JhfE1E4Cc8y4"
      },
      "execution_count": 3,
      "outputs": []
    },
    {
      "cell_type": "markdown",
      "source": [
        "Escolhi aquela divisão tendo em mente o menor  e o maior valor alcançado por MEDV, de 5 e 50.\n",
        "\n",
        "Utilizamos então o scikitlearn para fazer a divisão estratificada dos conjuntos de treino e teste."
      ],
      "metadata": {
        "id": "OpqeslC2xKan"
      }
    },
    {
      "cell_type": "code",
      "source": [
        "from sklearn.model_selection import StratifiedShuffleSplit\n",
        "\n",
        "split = StratifiedShuffleSplit(n_splits=1, test_size=0.2, random_state=seed)\n",
        "\n",
        "for train_index, test_index in split.split(boston, boston[\"CAT\"]):\n",
        "    strat_train_set = boston.loc[train_index]\n",
        "    strat_test_set = boston.loc[test_index]\n",
        "\n",
        "X_train = strat_train_set.iloc[:, 0:-2].values\n",
        "y_train = strat_train_set.iloc[:, -2].values\n",
        "X_test = strat_test_set.iloc[:, 0:-2].values\n",
        "y_test = strat_test_set.iloc[:, -2].values"
      ],
      "metadata": {
        "id": "2vsMGqNfZC0i"
      },
      "execution_count": 4,
      "outputs": []
    },
    {
      "cell_type": "markdown",
      "source": [
        "# Visualização do conjunto de dados"
      ],
      "metadata": {
        "id": "VwoHeqmnK3Be"
      }
    },
    {
      "cell_type": "markdown",
      "source": [
        "Faremos então uma pequena visualização dos dados no conjunto de treino, não observando o conjunto de teste para evitar o snooping bias.\n",
        "\n",
        "Primeiro podemos observar o boxplot dos valores médios dos preços das moradias."
      ],
      "metadata": {
        "id": "zGPmvNY5mKMh"
      }
    },
    {
      "cell_type": "code",
      "source": [
        "strat_train_set.boxplot(column=['MEDV'])"
      ],
      "metadata": {
        "colab": {
          "base_uri": "https://localhost:8080/",
          "height": 283
        },
        "id": "Bc-sraEBgmA_",
        "outputId": "cb09810b-aa57-4188-ef65-b916fd4dc800"
      },
      "execution_count": 5,
      "outputs": [
        {
          "output_type": "execute_result",
          "data": {
            "text/plain": [
              "<matplotlib.axes._subplots.AxesSubplot at 0x7f49b4406190>"
            ]
          },
          "metadata": {},
          "execution_count": 5
        },
        {
          "output_type": "display_data",
          "data": {
            "image/png": "[encoded data removed]",
            "text/plain": [
              "<Figure size 432x288 with 1 Axes>"
            ]
          },
          "metadata": {
            "needs_background": "light"
          }
        }
      ]
    },
    {
      "cell_type": "markdown",
      "source": [
        "Podemos notar que há vários outliers com preços maiores, e um tanto altos, mas que provavelmente ainda são necessários para o modelo, já que realmente é de se imaginar que em certas condições moradias estejam bastante mais caras. "
      ],
      "metadata": {
        "id": "OgvtkKHJp5__"
      }
    },
    {
      "cell_type": "markdown",
      "source": [
        "Agora vamos observar as correlações dos dados, em especial a dos dados com MEDV, que é o que estaremos procurando prever."
      ],
      "metadata": {
        "id": "eeUEYOOAsRxA"
      }
    },
    {
      "cell_type": "code",
      "source": [
        "strat_train_set.corr()"
      ],
      "metadata": {
        "id": "9Hx5uRirlwg-",
        "outputId": "3dd8419f-568e-4419-b106-ed9604ca9d21",
        "colab": {
          "base_uri": "https://localhost:8080/",
          "height": 487
        }
      },
      "execution_count": 6,
      "outputs": [
        {
          "output_type": "execute_result",
          "data": {
            "text/html": [
              "\n",
              "  <div id=\"df-c19f9e3b-6fe2-4a10-83db-971895c36a22\">\n",
              "    <div class=\"colab-df-container\">\n",
              "      <div>\n",
              "<style scoped>\n",
              "    .dataframe tbody tr th:only-of-type {\n",
              "        vertical-align: middle;\n",
              "    }\n",
              "\n",
              "    .dataframe tbody tr th {\n",
              "        vertical-align: top;\n",
              "    }\n",
              "\n",
              "    .dataframe thead th {\n",
              "        text-align: right;\n",
              "    }\n",
              "</style>\n",
              "<table border=\"1\" class=\"dataframe\">\n",
              "  <thead>\n",
              "    <tr style=\"text-align: right;\">\n",
              "      <th></th>\n",
              "      <th>CRIM</th>\n",
              "      <th>ZN</th>\n",
              "      <th>INDUS</th>\n",
              "      <th>CHAS</th>\n",
              "      <th>NOX</th>\n",
              "      <th>RM</th>\n",
              "      <th>AGE</th>\n",
              "      <th>DIS</th>\n",
              "      <th>RAD</th>\n",
              "      <th>TAX</th>\n",
              "      <th>PTRATIO</th>\n",
              "      <th>B</th>\n",
              "      <th>LSTAT</th>\n",
              "      <th>MEDV</th>\n",
              "    </tr>\n",
              "  </thead>\n",
              "  <tbody>\n",
              "    <tr>\n",
              "      <th>CRIM</th>\n",
              "      <td>1.000000</td>\n",
              "      <td>-0.199656</td>\n",
              "      <td>0.392855</td>\n",
              "      <td>-0.064536</td>\n",
              "      <td>0.409702</td>\n",
              "      <td>-0.197596</td>\n",
              "      <td>0.336103</td>\n",
              "      <td>-0.368621</td>\n",
              "      <td>0.609365</td>\n",
              "      <td>0.564401</td>\n",
              "      <td>0.288899</td>\n",
              "      <td>-0.358299</td>\n",
              "      <td>0.457047</td>\n",
              "      <td>-0.390775</td>\n",
              "    </tr>\n",
              "    <tr>\n",
              "      <th>ZN</th>\n",
              "      <td>-0.199656</td>\n",
              "      <td>1.000000</td>\n",
              "      <td>-0.553904</td>\n",
              "      <td>-0.047928</td>\n",
              "      <td>-0.521554</td>\n",
              "      <td>0.338518</td>\n",
              "      <td>-0.576966</td>\n",
              "      <td>0.665436</td>\n",
              "      <td>-0.318505</td>\n",
              "      <td>-0.336607</td>\n",
              "      <td>-0.425063</td>\n",
              "      <td>0.183352</td>\n",
              "      <td>-0.431892</td>\n",
              "      <td>0.388177</td>\n",
              "    </tr>\n",
              "    <tr>\n",
              "      <th>INDUS</th>\n",
              "      <td>0.392855</td>\n",
              "      <td>-0.553904</td>\n",
              "      <td>1.000000</td>\n",
              "      <td>0.053176</td>\n",
              "      <td>0.768120</td>\n",
              "      <td>-0.414912</td>\n",
              "      <td>0.639632</td>\n",
              "      <td>-0.710356</td>\n",
              "      <td>0.590519</td>\n",
              "      <td>0.743644</td>\n",
              "      <td>0.396426</td>\n",
              "      <td>-0.366869</td>\n",
              "      <td>0.613495</td>\n",
              "      <td>-0.513447</td>\n",
              "    </tr>\n",
              "    <tr>\n",
              "      <th>CHAS</th>\n",
              "      <td>-0.064536</td>\n",
              "      <td>-0.047928</td>\n",
              "      <td>0.053176</td>\n",
              "      <td>1.000000</td>\n",
              "      <td>0.059178</td>\n",
              "      <td>0.095982</td>\n",
              "      <td>0.086318</td>\n",
              "      <td>-0.089437</td>\n",
              "      <td>-0.041652</td>\n",
              "      <td>-0.069132</td>\n",
              "      <td>-0.145027</td>\n",
              "      <td>0.042393</td>\n",
              "      <td>-0.055707</td>\n",
              "      <td>0.170628</td>\n",
              "    </tr>\n",
              "    <tr>\n",
              "      <th>NOX</th>\n",
              "      <td>0.409702</td>\n",
              "      <td>-0.521554</td>\n",
              "      <td>0.768120</td>\n",
              "      <td>0.059178</td>\n",
              "      <td>1.000000</td>\n",
              "      <td>-0.310320</td>\n",
              "      <td>0.728792</td>\n",
              "      <td>-0.770819</td>\n",
              "      <td>0.599533</td>\n",
              "      <td>0.667075</td>\n",
              "      <td>0.198915</td>\n",
              "      <td>-0.416671</td>\n",
              "      <td>0.583929</td>\n",
              "      <td>-0.441316</td>\n",
              "    </tr>\n",
              "    <tr>\n",
              "      <th>RM</th>\n",
              "      <td>-0.197596</td>\n",
              "      <td>0.338518</td>\n",
              "      <td>-0.414912</td>\n",
              "      <td>0.095982</td>\n",
              "      <td>-0.310320</td>\n",
              "      <td>1.000000</td>\n",
              "      <td>-0.254780</td>\n",
              "      <td>0.223140</td>\n",
              "      <td>-0.207169</td>\n",
              "      <td>-0.303786</td>\n",
              "      <td>-0.355797</td>\n",
              "      <td>0.131156</td>\n",
              "      <td>-0.618409</td>\n",
              "      <td>0.682386</td>\n",
              "    </tr>\n",
              "    <tr>\n",
              "      <th>AGE</th>\n",
              "      <td>0.336103</td>\n",
              "      <td>-0.576966</td>\n",
              "      <td>0.639632</td>\n",
              "      <td>0.086318</td>\n",
              "      <td>0.728792</td>\n",
              "      <td>-0.254780</td>\n",
              "      <td>1.000000</td>\n",
              "      <td>-0.744412</td>\n",
              "      <td>0.446674</td>\n",
              "      <td>0.503030</td>\n",
              "      <td>0.264788</td>\n",
              "      <td>-0.275374</td>\n",
              "      <td>0.593842</td>\n",
              "      <td>-0.386046</td>\n",
              "    </tr>\n",
              "    <tr>\n",
              "      <th>DIS</th>\n",
              "      <td>-0.368621</td>\n",
              "      <td>0.665436</td>\n",
              "      <td>-0.710356</td>\n",
              "      <td>-0.089437</td>\n",
              "      <td>-0.770819</td>\n",
              "      <td>0.223140</td>\n",
              "      <td>-0.744412</td>\n",
              "      <td>1.000000</td>\n",
              "      <td>-0.488622</td>\n",
              "      <td>-0.541647</td>\n",
              "      <td>-0.251970</td>\n",
              "      <td>0.297934</td>\n",
              "      <td>-0.507297</td>\n",
              "      <td>0.270125</td>\n",
              "    </tr>\n",
              "    <tr>\n",
              "      <th>RAD</th>\n",
              "      <td>0.609365</td>\n",
              "      <td>-0.318505</td>\n",
              "      <td>0.590519</td>\n",
              "      <td>-0.041652</td>\n",
              "      <td>0.599533</td>\n",
              "      <td>-0.207169</td>\n",
              "      <td>0.446674</td>\n",
              "      <td>-0.488622</td>\n",
              "      <td>1.000000</td>\n",
              "      <td>0.903714</td>\n",
              "      <td>0.478470</td>\n",
              "      <td>-0.442392</td>\n",
              "      <td>0.474886</td>\n",
              "      <td>-0.386375</td>\n",
              "    </tr>\n",
              "    <tr>\n",
              "      <th>TAX</th>\n",
              "      <td>0.564401</td>\n",
              "      <td>-0.336607</td>\n",
              "      <td>0.743644</td>\n",
              "      <td>-0.069132</td>\n",
              "      <td>0.667075</td>\n",
              "      <td>-0.303786</td>\n",
              "      <td>0.503030</td>\n",
              "      <td>-0.541647</td>\n",
              "      <td>0.903714</td>\n",
              "      <td>1.000000</td>\n",
              "      <td>0.480082</td>\n",
              "      <td>-0.443552</td>\n",
              "      <td>0.540873</td>\n",
              "      <td>-0.486922</td>\n",
              "    </tr>\n",
              "    <tr>\n",
              "      <th>PTRATIO</th>\n",
              "      <td>0.288899</td>\n",
              "      <td>-0.425063</td>\n",
              "      <td>0.396426</td>\n",
              "      <td>-0.145027</td>\n",
              "      <td>0.198915</td>\n",
              "      <td>-0.355797</td>\n",
              "      <td>0.264788</td>\n",
              "      <td>-0.251970</td>\n",
              "      <td>0.478470</td>\n",
              "      <td>0.480082</td>\n",
              "      <td>1.000000</td>\n",
              "      <td>-0.169125</td>\n",
              "      <td>0.375811</td>\n",
              "      <td>-0.505325</td>\n",
              "    </tr>\n",
              "    <tr>\n",
              "      <th>B</th>\n",
              "      <td>-0.358299</td>\n",
              "      <td>0.183352</td>\n",
              "      <td>-0.366869</td>\n",
              "      <td>0.042393</td>\n",
              "      <td>-0.416671</td>\n",
              "      <td>0.131156</td>\n",
              "      <td>-0.275374</td>\n",
              "      <td>0.297934</td>\n",
              "      <td>-0.442392</td>\n",
              "      <td>-0.443552</td>\n",
              "      <td>-0.169125</td>\n",
              "      <td>1.000000</td>\n",
              "      <td>-0.380197</td>\n",
              "      <td>0.344094</td>\n",
              "    </tr>\n",
              "    <tr>\n",
              "      <th>LSTAT</th>\n",
              "      <td>0.457047</td>\n",
              "      <td>-0.431892</td>\n",
              "      <td>0.613495</td>\n",
              "      <td>-0.055707</td>\n",
              "      <td>0.583929</td>\n",
              "      <td>-0.618409</td>\n",
              "      <td>0.593842</td>\n",
              "      <td>-0.507297</td>\n",
              "      <td>0.474886</td>\n",
              "      <td>0.540873</td>\n",
              "      <td>0.375811</td>\n",
              "      <td>-0.380197</td>\n",
              "      <td>1.000000</td>\n",
              "      <td>-0.739697</td>\n",
              "    </tr>\n",
              "    <tr>\n",
              "      <th>MEDV</th>\n",
              "      <td>-0.390775</td>\n",
              "      <td>0.388177</td>\n",
              "      <td>-0.513447</td>\n",
              "      <td>0.170628</td>\n",
              "      <td>-0.441316</td>\n",
              "      <td>0.682386</td>\n",
              "      <td>-0.386046</td>\n",
              "      <td>0.270125</td>\n",
              "      <td>-0.386375</td>\n",
              "      <td>-0.486922</td>\n",
              "      <td>-0.505325</td>\n",
              "      <td>0.344094</td>\n",
              "      <td>-0.739697</td>\n",
              "      <td>1.000000</td>\n",
              "    </tr>\n",
              "  </tbody>\n",
              "</table>\n",
              "</div>\n",
              "      <button class=\"colab-df-convert\" onclick=\"convertToInteractive('df-c19f9e3b-6fe2-4a10-83db-971895c36a22')\"\n",
              "              title=\"Convert this dataframe to an interactive table.\"\n",
              "              style=\"display:none;\">\n",
              "        \n",
              "  <svg xmlns=\"http://www.w3.org/2000/svg\" height=\"24px\"viewBox=\"0 0 24 24\"\n",
              "       width=\"24px\">\n",
              "    <path d=\"M0 0h24v24H0V0z\" fill=\"none\"/>\n",
              "    <path d=\"M18.56 5.44l.94 2.06.94-2.06 2.06-.94-2.06-.94-.94-2.06-.94 2.06-2.06.94zm-11 1L8.5 8.5l.94-2.06 2.06-.94-2.06-.94L8.5 2.5l-.94 2.06-2.06.94zm10 10l.94 2.06.94-2.06 2.06-.94-2.06-.94-.94-2.06-.94 2.06-2.06.94z\"/><path d=\"M17.41 7.96l-1.37-1.37c-.4-.4-.92-.59-1.43-.59-.52 0-1.04.2-1.43.59L10.3 9.45l-7.72 7.72c-.78.78-.78 2.05 0 2.83L4 21.41c.39.39.9.59 1.41.59.51 0 1.02-.2 1.41-.59l7.78-7.78 2.81-2.81c.8-.78.8-2.07 0-2.86zM5.41 20L4 18.59l7.72-7.72 1.47 1.35L5.41 20z\"/>\n",
              "  </svg>\n",
              "      </button>\n",
              "      \n",
              "  <style>\n",
              "    .colab-df-container {\n",
              "      display:flex;\n",
              "      flex-wrap:wrap;\n",
              "      gap: 12px;\n",
              "    }\n",
              "\n",
              "    .colab-df-convert {\n",
              "      background-color: #E8F0FE;\n",
              "      border: none;\n",
              "      border-radius: 50%;\n",
              "      cursor: pointer;\n",
              "      display: none;\n",
              "      fill: #1967D2;\n",
              "      height: 32px;\n",
              "      padding: 0 0 0 0;\n",
              "      width: 32px;\n",
              "    }\n",
              "\n",
              "    .colab-df-convert:hover {\n",
              "      background-color: #E2EBFA;\n",
              "      box-shadow: 0px 1px 2px rgba(60, 64, 67, 0.3), 0px 1px 3px 1px rgba(60, 64, 67, 0.15);\n",
              "      fill: #174EA6;\n",
              "    }\n",
              "\n",
              "    [theme=dark] .colab-df-convert {\n",
              "      background-color: #3B4455;\n",
              "      fill: #D2E3FC;\n",
              "    }\n",
              "\n",
              "    [theme=dark] .colab-df-convert:hover {\n",
              "      background-color: #434B5C;\n",
              "      box-shadow: 0px 1px 3px 1px rgba(0, 0, 0, 0.15);\n",
              "      filter: drop-shadow(0px 1px 2px rgba(0, 0, 0, 0.3));\n",
              "      fill: #FFFFFF;\n",
              "    }\n",
              "  </style>\n",
              "\n",
              "      <script>\n",
              "        const buttonEl =\n",
              "          document.querySelector('#df-c19f9e3b-6fe2-4a10-83db-971895c36a22 button.colab-df-convert');\n",
              "        buttonEl.style.display =\n",
              "          google.colab.kernel.accessAllowed ? 'block' : 'none';\n",
              "\n",
              "        async function convertToInteractive(key) {\n",
              "          const element = document.querySelector('#df-c19f9e3b-6fe2-4a10-83db-971895c36a22');\n",
              "          const dataTable =\n",
              "            await google.colab.kernel.invokeFunction('convertToInteractive',\n",
              "                                                     [key], {});\n",
              "          if (!dataTable) return;\n",
              "\n",
              "          const docLinkHtml = 'Like what you see? Visit the ' +\n",
              "            '<a target=\"_blank\" href=https://colab.research.google.com/notebooks/data_table.ipynb>data table notebook</a>'\n",
              "            + ' to learn more about interactive tables.';\n",
              "          element.innerHTML = '';\n",
              "          dataTable['output_type'] = 'display_data';\n",
              "          await google.colab.output.renderOutput(dataTable, element);\n",
              "          const docLink = document.createElement('div');\n",
              "          docLink.innerHTML = docLinkHtml;\n",
              "          element.appendChild(docLink);\n",
              "        }\n",
              "      </script>\n",
              "    </div>\n",
              "  </div>\n",
              "  "
            ],
            "text/plain": [
              "             CRIM        ZN     INDUS  ...         B     LSTAT      MEDV\n",
              "CRIM     1.000000 -0.199656  0.392855  ... -0.358299  0.457047 -0.390775\n",
              "ZN      -0.199656  1.000000 -0.553904  ...  0.183352 -0.431892  0.388177\n",
              "INDUS    0.392855 -0.553904  1.000000  ... -0.366869  0.613495 -0.513447\n",
              "CHAS    -0.064536 -0.047928  0.053176  ...  0.042393 -0.055707  0.170628\n",
              "NOX      0.409702 -0.521554  0.768120  ... -0.416671  0.583929 -0.441316\n",
              "RM      -0.197596  0.338518 -0.414912  ...  0.131156 -0.618409  0.682386\n",
              "AGE      0.336103 -0.576966  0.639632  ... -0.275374  0.593842 -0.386046\n",
              "DIS     -0.368621  0.665436 -0.710356  ...  0.297934 -0.507297  0.270125\n",
              "RAD      0.609365 -0.318505  0.590519  ... -0.442392  0.474886 -0.386375\n",
              "TAX      0.564401 -0.336607  0.743644  ... -0.443552  0.540873 -0.486922\n",
              "PTRATIO  0.288899 -0.425063  0.396426  ... -0.169125  0.375811 -0.505325\n",
              "B       -0.358299  0.183352 -0.366869  ...  1.000000 -0.380197  0.344094\n",
              "LSTAT    0.457047 -0.431892  0.613495  ... -0.380197  1.000000 -0.739697\n",
              "MEDV    -0.390775  0.388177 -0.513447  ...  0.344094 -0.739697  1.000000\n",
              "\n",
              "[14 rows x 14 columns]"
            ]
          },
          "metadata": {},
          "execution_count": 6
        }
      ]
    },
    {
      "cell_type": "code",
      "source": [
        "strat_train_set.corr()[\"MEDV\"].sort_values()"
      ],
      "metadata": {
        "colab": {
          "base_uri": "https://localhost:8080/"
        },
        "id": "_tWIso9Hsp9M",
        "outputId": "4ddd67be-4437-4ee7-98cc-ea594578199c"
      },
      "execution_count": 7,
      "outputs": [
        {
          "output_type": "execute_result",
          "data": {
            "text/plain": [
              "LSTAT     -0.739697\n",
              "INDUS     -0.513447\n",
              "PTRATIO   -0.505325\n",
              "TAX       -0.486922\n",
              "NOX       -0.441316\n",
              "CRIM      -0.390775\n",
              "RAD       -0.386375\n",
              "AGE       -0.386046\n",
              "CHAS       0.170628\n",
              "DIS        0.270125\n",
              "B          0.344094\n",
              "ZN         0.388177\n",
              "RM         0.682386\n",
              "MEDV       1.000000\n",
              "Name: MEDV, dtype: float64"
            ]
          },
          "metadata": {},
          "execution_count": 7
        }
      ]
    },
    {
      "cell_type": "markdown",
      "source": [
        "Vemos que a quantidade média de quartos por moradia possui a maior correlação. Faz sentido que MEDV tenha uma correlação alta com RM, já que uma quantidade maior de quartos no geral deve estar bem relacionada com o tamanho da moradia, que deve afetar bastante o preço.\n",
        "\n",
        "Podemos pegar alguns dados interessantes para verificar os scatter plots com MEDV e entre si."
      ],
      "metadata": {
        "id": "gwom0TBRtDD8"
      }
    },
    {
      "cell_type": "code",
      "source": [
        "from pandas.plotting import scatter_matrix\n",
        "\n",
        "scatter_matrix(strat_train_set[[\"MEDV\",\"CRIM\",\"AGE\",\"DIS\",\"RM\"]], figsize=(12, 8))"
      ],
      "metadata": {
        "colab": {
          "base_uri": "https://localhost:8080/",
          "height": 982
        },
        "id": "ypYA7mVntWGn",
        "outputId": "19bb2047-2331-455b-9071-0c3fb093aa1e"
      },
      "execution_count": 8,
      "outputs": [
        {
          "output_type": "execute_result",
          "data": {
            "text/plain": [
              "array([[<matplotlib.axes._subplots.AxesSubplot object at 0x7f49b435fcd0>,\n",
              "        <matplotlib.axes._subplots.AxesSubplot object at 0x7f49b3ec0d90>,\n",
              "        <matplotlib.axes._subplots.AxesSubplot object at 0x7f49b3e813d0>,\n",
              "        <matplotlib.axes._subplots.AxesSubplot object at 0x7f49b3e379d0>,\n",
              "        <matplotlib.axes._subplots.AxesSubplot object at 0x7f49b3df2f90>],\n",
              "       [<matplotlib.axes._subplots.AxesSubplot object at 0x7f49b3db3610>,\n",
              "        <matplotlib.axes._subplots.AxesSubplot object at 0x7f49b3d69c90>,\n",
              "        <matplotlib.axes._subplots.AxesSubplot object at 0x7f49b3d2c210>,\n",
              "        <matplotlib.axes._subplots.AxesSubplot object at 0x7f49b3d2c250>,\n",
              "        <matplotlib.axes._subplots.AxesSubplot object at 0x7f49b3ce3950>],\n",
              "       [<matplotlib.axes._subplots.AxesSubplot object at 0x7f49b3c5c490>,\n",
              "        <matplotlib.axes._subplots.AxesSubplot object at 0x7f49b3c93a90>,\n",
              "        <matplotlib.axes._subplots.AxesSubplot object at 0x7f49b3c540d0>,\n",
              "        <matplotlib.axes._subplots.AxesSubplot object at 0x7f49b3c0a6d0>,\n",
              "        <matplotlib.axes._subplots.AxesSubplot object at 0x7f49b3bc1cd0>],\n",
              "       [<matplotlib.axes._subplots.AxesSubplot object at 0x7f49b3b83310>,\n",
              "        <matplotlib.axes._subplots.AxesSubplot object at 0x7f49b3b38910>,\n",
              "        <matplotlib.axes._subplots.AxesSubplot object at 0x7f49b3af0f10>,\n",
              "        <matplotlib.axes._subplots.AxesSubplot object at 0x7f49b3ab3550>,\n",
              "        <matplotlib.axes._subplots.AxesSubplot object at 0x7f49b3a69b50>],\n",
              "       [<matplotlib.axes._subplots.AxesSubplot object at 0x7f49b3a2d190>,\n",
              "        <matplotlib.axes._subplots.AxesSubplot object at 0x7f49b39e2790>,\n",
              "        <matplotlib.axes._subplots.AxesSubplot object at 0x7f49b3a18d90>,\n",
              "        <matplotlib.axes._subplots.AxesSubplot object at 0x7f49b395d3d0>,\n",
              "        <matplotlib.axes._subplots.AxesSubplot object at 0x7f49b3993a10>]],\n",
              "      dtype=object)"
            ]
          },
          "metadata": {},
          "execution_count": 8
        },
        {
          "output_type": "display_data",
          "data": {
            "image/png": "[encoded data removed]",
            "text/plain": [
              "<Figure size 864x576 with 25 Axes>"
            ]
          },
          "metadata": {
            "needs_background": "light"
          }
        }
      ]
    },
    {
      "cell_type": "markdown",
      "source": [
        "Podemos notar algumas coisas interessantes, como que a taxa de criminalidade parece abaixar o preço quando é maior, mas uma taxa de criminalidade pequena não o afeta tanto.\n",
        "\n",
        "No gráfico de RM por MEDV vemos uma correlação decente entre os dados em sua maioria, mas vemos também alguns dados um tanto fora de lugar, como os alinhados no topo no valor médio de 50000.\n",
        "\n",
        "Inclusive, vemos valores alinhados no topo nas quatro scatter plots com o MEDV, provavelmente devido à censura mencionada no site que disponibiliza o dataset."
      ],
      "metadata": {
        "id": "JXXArODPx5oX"
      }
    },
    {
      "cell_type": "markdown",
      "source": [
        "# Preparação do conjunto de dados"
      ],
      "metadata": {
        "id": "k1dA4TisLGjs"
      }
    },
    {
      "cell_type": "markdown",
      "source": [
        "Vemos primeiramente que não há problemas com os dados, de modo que não há mais o que ajustar neste quesito."
      ],
      "metadata": {
        "id": "Mw1vi2TX2v2h"
      }
    },
    {
      "cell_type": "code",
      "source": [
        "sample_incomplete_rows = strat_train_set[strat_train_set.isnull().any(axis=1)].head() \n",
        "sample_incomplete_rows"
      ],
      "metadata": {
        "colab": {
          "base_uri": "https://localhost:8080/",
          "height": 50
        },
        "id": "oqEsSz1uiJg0",
        "outputId": "d94c3c9a-310c-4946-c631-3edb5850b2c0"
      },
      "execution_count": 9,
      "outputs": [
        {
          "output_type": "execute_result",
          "data": {
            "text/html": [
              "\n",
              "  <div id=\"df-897148f3-1d02-4266-b3fa-c9acc0090d45\">\n",
              "    <div class=\"colab-df-container\">\n",
              "      <div>\n",
              "<style scoped>\n",
              "    .dataframe tbody tr th:only-of-type {\n",
              "        vertical-align: middle;\n",
              "    }\n",
              "\n",
              "    .dataframe tbody tr th {\n",
              "        vertical-align: top;\n",
              "    }\n",
              "\n",
              "    .dataframe thead th {\n",
              "        text-align: right;\n",
              "    }\n",
              "</style>\n",
              "<table border=\"1\" class=\"dataframe\">\n",
              "  <thead>\n",
              "    <tr style=\"text-align: right;\">\n",
              "      <th></th>\n",
              "      <th>CRIM</th>\n",
              "      <th>ZN</th>\n",
              "      <th>INDUS</th>\n",
              "      <th>CHAS</th>\n",
              "      <th>NOX</th>\n",
              "      <th>RM</th>\n",
              "      <th>AGE</th>\n",
              "      <th>DIS</th>\n",
              "      <th>RAD</th>\n",
              "      <th>TAX</th>\n",
              "      <th>PTRATIO</th>\n",
              "      <th>B</th>\n",
              "      <th>LSTAT</th>\n",
              "      <th>MEDV</th>\n",
              "      <th>CAT</th>\n",
              "    </tr>\n",
              "  </thead>\n",
              "  <tbody>\n",
              "  </tbody>\n",
              "</table>\n",
              "</div>\n",
              "      <button class=\"colab-df-convert\" onclick=\"convertToInteractive('df-897148f3-1d02-4266-b3fa-c9acc0090d45')\"\n",
              "              title=\"Convert this dataframe to an interactive table.\"\n",
              "              style=\"display:none;\">\n",
              "        \n",
              "  <svg xmlns=\"http://www.w3.org/2000/svg\" height=\"24px\"viewBox=\"0 0 24 24\"\n",
              "       width=\"24px\">\n",
              "    <path d=\"M0 0h24v24H0V0z\" fill=\"none\"/>\n",
              "    <path d=\"M18.56 5.44l.94 2.06.94-2.06 2.06-.94-2.06-.94-.94-2.06-.94 2.06-2.06.94zm-11 1L8.5 8.5l.94-2.06 2.06-.94-2.06-.94L8.5 2.5l-.94 2.06-2.06.94zm10 10l.94 2.06.94-2.06 2.06-.94-2.06-.94-.94-2.06-.94 2.06-2.06.94z\"/><path d=\"M17.41 7.96l-1.37-1.37c-.4-.4-.92-.59-1.43-.59-.52 0-1.04.2-1.43.59L10.3 9.45l-7.72 7.72c-.78.78-.78 2.05 0 2.83L4 21.41c.39.39.9.59 1.41.59.51 0 1.02-.2 1.41-.59l7.78-7.78 2.81-2.81c.8-.78.8-2.07 0-2.86zM5.41 20L4 18.59l7.72-7.72 1.47 1.35L5.41 20z\"/>\n",
              "  </svg>\n",
              "      </button>\n",
              "      \n",
              "  <style>\n",
              "    .colab-df-container {\n",
              "      display:flex;\n",
              "      flex-wrap:wrap;\n",
              "      gap: 12px;\n",
              "    }\n",
              "\n",
              "    .colab-df-convert {\n",
              "      background-color: #E8F0FE;\n",
              "      border: none;\n",
              "      border-radius: 50%;\n",
              "      cursor: pointer;\n",
              "      display: none;\n",
              "      fill: #1967D2;\n",
              "      height: 32px;\n",
              "      padding: 0 0 0 0;\n",
              "      width: 32px;\n",
              "    }\n",
              "\n",
              "    .colab-df-convert:hover {\n",
              "      background-color: #E2EBFA;\n",
              "      box-shadow: 0px 1px 2px rgba(60, 64, 67, 0.3), 0px 1px 3px 1px rgba(60, 64, 67, 0.15);\n",
              "      fill: #174EA6;\n",
              "    }\n",
              "\n",
              "    [theme=dark] .colab-df-convert {\n",
              "      background-color: #3B4455;\n",
              "      fill: #D2E3FC;\n",
              "    }\n",
              "\n",
              "    [theme=dark] .colab-df-convert:hover {\n",
              "      background-color: #434B5C;\n",
              "      box-shadow: 0px 1px 3px 1px rgba(0, 0, 0, 0.15);\n",
              "      filter: drop-shadow(0px 1px 2px rgba(0, 0, 0, 0.3));\n",
              "      fill: #FFFFFF;\n",
              "    }\n",
              "  </style>\n",
              "\n",
              "      <script>\n",
              "        const buttonEl =\n",
              "          document.querySelector('#df-897148f3-1d02-4266-b3fa-c9acc0090d45 button.colab-df-convert');\n",
              "        buttonEl.style.display =\n",
              "          google.colab.kernel.accessAllowed ? 'block' : 'none';\n",
              "\n",
              "        async function convertToInteractive(key) {\n",
              "          const element = document.querySelector('#df-897148f3-1d02-4266-b3fa-c9acc0090d45');\n",
              "          const dataTable =\n",
              "            await google.colab.kernel.invokeFunction('convertToInteractive',\n",
              "                                                     [key], {});\n",
              "          if (!dataTable) return;\n",
              "\n",
              "          const docLinkHtml = 'Like what you see? Visit the ' +\n",
              "            '<a target=\"_blank\" href=https://colab.research.google.com/notebooks/data_table.ipynb>data table notebook</a>'\n",
              "            + ' to learn more about interactive tables.';\n",
              "          element.innerHTML = '';\n",
              "          dataTable['output_type'] = 'display_data';\n",
              "          await google.colab.output.renderOutput(dataTable, element);\n",
              "          const docLink = document.createElement('div');\n",
              "          docLink.innerHTML = docLinkHtml;\n",
              "          element.appendChild(docLink);\n",
              "        }\n",
              "      </script>\n",
              "    </div>\n",
              "  </div>\n",
              "  "
            ],
            "text/plain": [
              "Empty DataFrame\n",
              "Columns: [CRIM, ZN, INDUS, CHAS, NOX, RM, AGE, DIS, RAD, TAX, PTRATIO, B, LSTAT, MEDV, CAT]\n",
              "Index: []"
            ]
          },
          "metadata": {},
          "execution_count": 9
        }
      ]
    },
    {
      "cell_type": "markdown",
      "source": [
        "Fazemos então um ajuste para que os dados fiquem normalizados, os escalando separadamente para evitar o data leakage, já que caso normalizassemos o dataset todo de uma vez e assim o separássemos, estariamos de certo modo dando informação do nosso conjunto de teste para nosso conjunto de treino."
      ],
      "metadata": {
        "id": "QNlXhQMF29il"
      }
    },
    {
      "cell_type": "code",
      "source": [
        "from sklearn.preprocessing import MinMaxScaler\n",
        "scaler = MinMaxScaler()\n",
        "X_train = scaler.fit_transform(X_train)\n",
        "X_test = scaler.transform(X_test)"
      ],
      "metadata": {
        "id": "-ZCI-Ds1XRNU"
      },
      "execution_count": 10,
      "outputs": []
    },
    {
      "cell_type": "markdown",
      "source": [
        "Com isto, não há mais muito o que se preparar, e podemos aplicar os modelos.\n",
        "\n"
      ],
      "metadata": {
        "id": "p0gaBdULaKKb"
      }
    },
    {
      "cell_type": "markdown",
      "source": [
        "# Comparação de modelos"
      ],
      "metadata": {
        "id": "TOy4iMEhLOtN"
      }
    },
    {
      "cell_type": "markdown",
      "source": [
        "Compararemos assim três modelos, o Linear Regression, o KNN e a Random Forest.\n",
        "\n",
        "Testaremos o KNN com três parâmetros diferentes e a Random Forest com dois, como seguirão.\n",
        "\n",
        "Para fazer a validação dos modelos, utilizarei o cross validation\n",
        "\n",
        "Primeiramente os colocarei numa lista para testar todos de uma vez."
      ],
      "metadata": {
        "id": "2KwKRPxo3TnO"
      }
    },
    {
      "cell_type": "code",
      "source": [
        "modelos = []"
      ],
      "metadata": {
        "id": "C2iFL-6ynG32"
      },
      "execution_count": 11,
      "outputs": []
    },
    {
      "cell_type": "code",
      "source": [
        "from sklearn.linear_model import LinearRegression\n",
        "lin_reg = LinearRegression()\n",
        "\n",
        "modelos.append(lin_reg)"
      ],
      "metadata": {
        "id": "fYzKvoIbl8qp"
      },
      "execution_count": 12,
      "outputs": []
    },
    {
      "cell_type": "code",
      "source": [
        "from sklearn.neighbors import KNeighborsRegressor\n",
        "\n",
        "knn1 = KNeighborsRegressor(n_neighbors = 2)\n",
        "knn2 = KNeighborsRegressor(n_neighbors = 5)\n",
        "knn3 = KNeighborsRegressor(n_neighbors = 8)\n",
        "\n",
        "modelos.append(knn1)\n",
        "modelos.append(knn2)\n",
        "modelos.append(knn3)"
      ],
      "metadata": {
        "id": "WWOhZcQ880EY"
      },
      "execution_count": 13,
      "outputs": []
    },
    {
      "cell_type": "code",
      "source": [
        "from sklearn.ensemble import RandomForestRegressor\n",
        "rf1 = RandomForestRegressor(n_estimators=100, random_state = seed, max_depth = 5)\n",
        "rf2 = RandomForestRegressor(n_estimators=100, random_state = seed, max_depth = 20)\n",
        "\n",
        "modelos.append(rf1)\n",
        "modelos.append(rf2)"
      ],
      "metadata": {
        "id": "URWq0pxk9JaA"
      },
      "execution_count": 14,
      "outputs": []
    },
    {
      "cell_type": "code",
      "source": [
        "from sklearn.model_selection import cross_val_score\n",
        "\n",
        "for i in modelos:\n",
        "  score = cross_val_score(i, X_train, y_train, scoring=\"neg_mean_squared_error\",cv=10)\n",
        "  raiz = np.sqrt(-score)\n",
        "  print(raiz.mean())"
      ],
      "metadata": {
        "colab": {
          "base_uri": "https://localhost:8080/"
        },
        "id": "H48ft_RG8j6u",
        "outputId": "0c4e1968-9729-44c8-d490-defa5cb5437b"
      },
      "execution_count": 15,
      "outputs": [
        {
          "output_type": "stream",
          "name": "stdout",
          "text": [
            "4.872569501996919\n",
            "4.710261224978389\n",
            "4.845294850216283\n",
            "5.118350828100121\n",
            "3.672982061491935\n",
            "3.45366688032789\n"
          ]
        }
      ]
    },
    {
      "cell_type": "markdown",
      "source": [
        "Estou utilizando o erro quadrático médio para verificação de qual modelo está se dando melhor, pois imagino que para este problema seja de maior interesse que punamos mais os erros maiores, ao invés de pedir que a maioria dos dados esteja o mais próximo possível de seu valor verdadeiro, já que ocorrer um erro imenso na previsão de um preço pode ser de maior irritação para o interessado que ocorrer alguns erros medianos.\n",
        "\n",
        "Vemos com a cross-validation que o modelo rf2 possui o menor erro médio nos testes no próprio conjunto de testes. Mas será que ele não está um pouco propenso a overfitting? Veremos como os modelos atuam treinados e aplicados no próprio conjunto de treino;"
      ],
      "metadata": {
        "id": "8_jGKtlha9WY"
      }
    },
    {
      "cell_type": "code",
      "source": [
        "from sklearn.metrics import mean_squared_error as MSE\n",
        "\n",
        "for i in modelos:\n",
        "  i.fit(X_train, y_train)\n",
        "  treinoprevisao = i.predict(X_train)\n",
        "  treino = MSE(y_train, treinoprevisao)\n",
        "  print(np.sqrt(treino))"
      ],
      "metadata": {
        "colab": {
          "base_uri": "https://localhost:8080/"
        },
        "id": "QUHvm0vUBABN",
        "outputId": "d1d9d31c-fadd-4749-d5dc-a8dfe655c876"
      },
      "execution_count": 16,
      "outputs": [
        {
          "output_type": "stream",
          "name": "stdout",
          "text": [
            "4.744572961499924\n",
            "2.4705167415536837\n",
            "3.9917046409515398\n",
            "4.580825000885498\n",
            "2.265361437269201\n",
            "1.3091357217952906\n"
          ]
        }
      ]
    },
    {
      "cell_type": "markdown",
      "source": [
        "Vemos que o erro quadrático médio de rf2 treinado e aplicado no conjunto de treino é bastante pequeno, em comparação com o resultado da cross-validation do mesmo, que pode indicar um overfitting. rf1, por outro lado, que possuia o segundo menor erro dado pela cross-validation, possui um erro um pouco mais próximo do erro dado pela cross-validation, de modo que não parece estar tão overfit quanto rf2.\n",
        "\n",
        "Faz sentido que rf2 esteja mais overfit que rf1, já que rf2 possui árvores com mais branches, mas como esta diferença é deveras maior, imagino que devemos decidir escolher rf1 como o melhor modelo."
      ],
      "metadata": {
        "id": "RV-ws2YFKPAq"
      }
    },
    {
      "cell_type": "markdown",
      "source": [
        "# Teste final"
      ],
      "metadata": {
        "id": "os1Hp16ULana"
      }
    },
    {
      "cell_type": "code",
      "source": [
        "rf1.fit(X_train, y_train)\n",
        "previsao = rf1.predict(X_test)\n",
        "\n",
        "resultado = MSE(y_test, previsao)\n",
        "print(np.sqrt(resultado))"
      ],
      "metadata": {
        "colab": {
          "base_uri": "https://localhost:8080/"
        },
        "id": "CxolNNzUouw7",
        "outputId": "a72946b4-aca9-4c52-9bec-9025e83c3f64"
      },
      "execution_count": 17,
      "outputs": [
        {
          "output_type": "stream",
          "name": "stdout",
          "text": [
            "3.408011400362232\n"
          ]
        }
      ]
    }
  ]
}